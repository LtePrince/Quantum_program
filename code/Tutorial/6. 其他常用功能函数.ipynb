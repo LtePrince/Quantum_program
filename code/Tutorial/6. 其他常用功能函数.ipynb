{
 "cells": [
  {
   "cell_type": "markdown",
   "id": "d25fd197-0124-4508-ab5e-7507140b70fb",
   "metadata": {
    "tags": []
   },
   "source": [
    "# **六、国盾量子计算云平台量子编程教学**"
   ]
  },
  {
   "cell_type": "markdown",
   "id": "1cddd7a0-bb9a-4129-97c6-abeb100f150e",
   "metadata": {},
   "source": [
    "-----------------------"
   ]
  },
  {
   "cell_type": "markdown",
   "id": "bc472470-64f0-4a6b-9d39-ecc94f563e39",
   "metadata": {
    "jp-MarkdownHeadingCollapsed": true,
    "tags": []
   },
   "source": [
    "# 教学大纲\n",
    "## 6. [其他常用功能函数](#jump_6)\n",
    "### &nbsp;&nbsp;&nbsp;&nbsp; 6.1 [比特拓扑结构映射](#jump_6_1)\n",
    "### &nbsp;&nbsp;&nbsp;&nbsp; 6.2 [线路正则检查(本地)](#jump_6_2)\n",
    "### &nbsp;&nbsp;&nbsp;&nbsp; 6.3 [线路优化(本地)](#jump_6_3)\n",
    "### &nbsp;&nbsp;&nbsp;&nbsp; 6.4 [语言互转：QCIS转QASM](#jump_6_4)\n",
    "### &nbsp;&nbsp;&nbsp;&nbsp; 6.5 [语言互转：QASM转QCIS](#jump_6_5)\n",
    "### &nbsp;&nbsp;&nbsp;&nbsp; 6.6 [其他说明](#jump_6_6)"
   ]
  },
  {
   "cell_type": "markdown",
   "id": "4e336f54-0732-4c1d-a2e3-2d20b1be4632",
   "metadata": {
    "tags": []
   },
   "source": [
    "# 6 其他常用功能函数<a id=\"jump_6\"></a>"
   ]
  },
  {
   "cell_type": "markdown",
   "id": "7d1ec08f-3859-4ab3-8fc3-168ed57d82a2",
   "metadata": {
    "tags": []
   },
   "source": [
    "## 6.1 比特拓扑结构映射<a id=\"jump_6_1\"></a>"
   ]
  },
  {
   "cell_type": "markdown",
   "id": "24cd9050-a29a-4930-9bc3-6d389760016e",
   "metadata": {},
   "source": [
    "超导量子处理器的比特不是全联通的，而是受到比特之间的拓扑连接限制，所以程序在执行时一定需要符合指定处理器的拓扑结构限制。  \n",
    "而用户在开发程序时，如果不想考虑芯片的拓扑情况，则可以使用一些自动的比特映射程序来完成程序比特编号与物理比特编号的对应关系。  \n",
    "需要注意的是，如果用户程序所使用的比特编号比较随意（如使尝试了全联通操作），则在映射程序的处理中未必能得到最优解，或者未必能得到有效的映射结果。如果为了满足映射需求，在映射过程中还有可能使用SWAP进行数据交互，则会耗费更多的门事件，从而占用了大量的比特寿命。甚至因为最终映射后的线路过长，导致程序无法执行或者程序结果全是噪声。  \n",
    "因为映射程序设计到较多的算法，所以映射过程需要耗费一定时间，请耐心等待。"
   ]
  },
  {
   "cell_type": "code",
   "execution_count": null,
   "id": "6a1b527f-a790-47d3-8c52-8605a0d33a00",
   "metadata": {},
   "outputs": [],
   "source": [
    "qcis = '''\n",
    "      X Q1\n",
    "      X Q1\n",
    "      Y Q4\n",
    "      Z Q4\n",
    "      H Q4\n",
    "      S Q4\n",
    "      SD Q5\n",
    "      T Q6\n",
    "      TD Q6\n",
    "      X2P Q6\n",
    "      X2M Q6\n",
    "      CZ Q1 Q2\n",
    "      Y2P Q1\n",
    "      Y2M Q1\n",
    "      CZ Q4 Q5\n",
    "      CZ Q3 Q4\n",
    "      CZ Q4 Q8\n",
    "      CZ Q9 Q10\n",
    "      RZ Q2 2.135648\n",
    "      RX Q2 -1.135648\n",
    "      RY Q3 1.8567\n",
    "      RXY Q7 3.2 1.04\n",
    "      CZ Q12 Q14\n",
    "      I Q1 100\n",
    "      B Q6 Q2\n",
    "      M Q7\n",
    "      M Q5\n",
    "      M Q1 Q2\n",
    "  '''\n",
    "from ezQpy import *\n",
    "account = Account(login_key='d69a8e1389f2cabde55c3de99fcf8589', machine_name='ClosedBetaQC')\n",
    "qcis = account.qcis_mapping_isq(qcis)\n",
    "#因为映射的效果和效率不同，我们与合作伙伴提供了多种映射方式，以上只为其中之一。\n",
    "print(qcis)"
   ]
  },
  {
   "cell_type": "markdown",
   "id": "d567389b-468d-40c0-8547-5e8d42446c94",
   "metadata": {
    "tags": []
   },
   "source": [
    "## 6.2 线路正则检查(本地)<a id=\"jump_6_2\"></a>"
   ]
  },
  {
   "cell_type": "markdown",
   "id": "72b438b0-0017-468c-a619-a26ae0beae84",
   "metadata": {},
   "source": [
    "在用户客户端进行线路的正则检查，检查门和参数是否正确，但不检查芯片拓扑应用是否正确。  \n",
    "当线路有代替换变量时，请不要执行正则检查和线路优化。"
   ]
  },
  {
   "cell_type": "code",
   "execution_count": null,
   "id": "18e8b0f7-4f04-4187-8032-69807a07b04a",
   "metadata": {},
   "outputs": [],
   "source": [
    "#有代替换变量时，请不要执行正则检查和代码优化\n",
    "qcis_raw=qcis\n",
    "qcis_circuit=account.qcis_check_regular(qcis_raw)\n",
    "print(qcis_circuit)"
   ]
  },
  {
   "cell_type": "markdown",
   "id": "22bed3c3-4ef2-4f0d-9198-f6f0eb139c85",
   "metadata": {
    "tags": []
   },
   "source": [
    "## 6.3 线路优化(本地)<a id=\"jump_6_3\"></a>"
   ]
  },
  {
   "cell_type": "markdown",
   "id": "adfbc9a4-cca1-4a5e-8f03-397f7f7174f9",
   "metadata": {},
   "source": [
    "在用户客户端进行线路的优化，尽可能将相邻的单比特门合并。该功能目前正在迭代，也希望大家反馈需求或共同参与社区开发。  \n",
    "当线路有有代替换变量时，请不要执行正则检查和线路优化。"
   ]
  },
  {
   "cell_type": "code",
   "execution_count": null,
   "id": "733a7707-8253-4366-8496-7ea396d8c875",
   "metadata": {},
   "outputs": [],
   "source": [
    "#优化代码，对一些等效操作进行合并。现阶段提供的优化实例见SDK发布详细说明。https://xxxx\n",
    "qcis_circuit = account.simplify(qcis_raw)\n",
    "print(qcis_circuit)"
   ]
  },
  {
   "cell_type": "markdown",
   "id": "c124bd15-34bc-448f-ba1e-89e91c9c8873",
   "metadata": {
    "tags": []
   },
   "source": [
    "## 6.4 语言互转：QCIS转QASM<a id=\"jump_6_4\"></a>"
   ]
  },
  {
   "cell_type": "markdown",
   "id": "5976fc93-abdb-4741-8450-10f98c49f451",
   "metadata": {},
   "source": [
    "为支持更多使用场景，我们提供了国内量子语言的支持，由开发商直接设计编译器，有其语言转为QCIS在云平台使用。  \n",
    "同时，我们提供转化功能，将QCIS转为国际上的QASM语言。  \n",
    "目前该函数未必是最优的，但是可以解决我们的基础需求。"
   ]
  },
  {
   "cell_type": "code",
   "execution_count": null,
   "id": "a1f72fe5-9e63-4716-bb92-9d97671c846a",
   "metadata": {},
   "outputs": [],
   "source": [
    "qcis = '''\n",
    "      X Q1\n",
    "      X Q1\n",
    "      Y Q4\n",
    "      Z Q4\n",
    "      H Q4\n",
    "      S Q4\n",
    "      SD Q5\n",
    "      T Q6\n",
    "      TD Q6\n",
    "      X2P Q6\n",
    "      X2M Q6\n",
    "      CZ Q1 Q2\n",
    "      Y2P Q1\n",
    "      Y2M Q1\n",
    "      CZ Q4 Q5\n",
    "      CZ Q3 Q4\n",
    "      CZ Q4 Q8\n",
    "      CZ Q9 Q10\n",
    "      RZ Q2 2.135648\n",
    "      RX Q2 -1.135648\n",
    "      RY Q3 1.8567\n",
    "      RXY Q7 3.2 1.04\n",
    "      CZ Q12 Q14\n",
    "      I Q1 100\n",
    "      B Q6 Q2\n",
    "      M Q7\n",
    "      M Q5\n",
    "      M Q1 Q2\n",
    "  '''\n",
    "from ezQpy import *\n",
    "account = Account(login_key='d69a8e1389f2cabde55c3de99fcf8589', machine_name='ClosedBetaQC')\n",
    "qasm=account.convert_qcis_to_qasm(qcis)\n",
    "print(qasm)"
   ]
  },
  {
   "cell_type": "markdown",
   "id": "3c0d3530-d5c8-4eaa-9b06-9686815ac570",
   "metadata": {
    "tags": []
   },
   "source": [
    "## 6.5 语言互转：QASM转QCIS<a id=\"jump_6_5\"></a>"
   ]
  },
  {
   "cell_type": "markdown",
   "id": "e06765e7-75da-4bf1-918e-42ccc31f0537",
   "metadata": {},
   "source": [
    "因为现阶段的量子计算机的结果读取存在保真度的影响，所以在做统计结果时，应该根据实际情况进行结果修正，我们提供了一个示例程序。\n"
   ]
  },
  {
   "cell_type": "code",
   "execution_count": null,
   "id": "d1262294-b80d-488a-b3b5-a207092cfc93",
   "metadata": {},
   "outputs": [],
   "source": [
    "qcis=account.convert_qasm_to_qcis(qasm)\n",
    "print(qcis)"
   ]
  },
  {
   "cell_type": "markdown",
   "id": "c9a059dc-b34c-4503-afc2-d269373e462e",
   "metadata": {
    "tags": []
   },
   "source": [
    "## 6.6 其他说明<a id=\"jump_6_6\"></a>"
   ]
  },
  {
   "cell_type": "markdown",
   "id": "26a8f9e3-c5e1-4009-a2cf-e6874f5c0edf",
   "metadata": {},
   "source": [
    "因云平台会因为任务压力过大，量子计算机响应异常，网络超时等原因，会造成一些实验步骤异常，如运行失败，线路长时间排队指定位置（非维护态）不变化等。  \n",
    "所以在设计自动运行程序时，多对函数运行结果进行判断，或者用try异常捕获运行，对异常状态进行自动的处理，以保证任务能够长时间自动运行。"
   ]
  }
 ],
 "metadata": {
  "kernelspec": {
   "display_name": "Python 3 (ipykernel)",
   "language": "python",
   "name": "python3"
  },
  "language_info": {
   "codemirror_mode": {
    "name": "ipython",
    "version": 3
   },
   "file_extension": ".py",
   "mimetype": "text/x-python",
   "name": "python",
   "nbconvert_exporter": "python",
   "pygments_lexer": "ipython3",
   "version": "3.9.7"
  }
 },
 "nbformat": 4,
 "nbformat_minor": 5
}
