{
 "cells": [
  {
   "cell_type": "markdown",
   "id": "d25fd197-0124-4508-ab5e-7507140b70fb",
   "metadata": {
    "tags": []
   },
   "source": [
    "# **一、量子计算云平台量子编程教学**"
   ]
  },
  {
   "cell_type": "markdown",
   "id": "1cddd7a0-bb9a-4129-97c6-abeb100f150e",
   "metadata": {},
   "source": [
    "-----------------------"
   ]
  },
  {
   "cell_type": "markdown",
   "id": "bc472470-64f0-4a6b-9d39-ecc94f563e39",
   "metadata": {
    "tags": []
   },
   "source": [
    "# 教学大纲\n",
    "## 1. [基于QCIS的首个量子程序提交](#jump_1)\n",
    "### &nbsp;&nbsp;&nbsp;&nbsp; 1.1 [准备量子计算云平台登录信息](#jump_1_1)\n",
    "### &nbsp;&nbsp;&nbsp;&nbsp; 1.2 [量子程序编写](#jump_1_2)\n",
    "### &nbsp;&nbsp;&nbsp;&nbsp; 1.3 [将程序提交到量子计算云平台](#jump_1_3)\n",
    "### &nbsp;&nbsp;&nbsp;&nbsp; 1.4 [读取实验结果](#jump_1_4)\n"
   ]
  },
  {
   "cell_type": "markdown",
   "id": "03fdb34a-6df1-4b9f-a3de-8a8267cb8367",
   "metadata": {
    "tags": []
   },
   "source": [
    "# 1 基于QCIS的首个量子程序提交<a id=\"jump_1\"></a>"
   ]
  },
  {
   "cell_type": "markdown",
   "id": "e550a33f-ad76-491e-8883-bc7d80165faa",
   "metadata": {
    "tags": []
   },
   "source": [
    "## 1.1 准备量子计算云平台登录信息<a id=\"jump_1_1\"></a>"
   ]
  },
  {
   "cell_type": "code",
   "execution_count": null,
   "id": "25573265-a8bb-467a-a503-96e5dbd2ccd5",
   "metadata": {},
   "outputs": [],
   "source": [
    "from ezQpy import * \n",
    "\n",
    "account = Account(login_key='d69a8e1389f2cabde55c3de99fcf8589', machine_name='ClosedBetaQC')\n",
    "#设置用户SDK密钥，选择量子计算机，并创建实例，运行成功后，提示登录成功。\n",
    "#用户的密钥（SDK密钥），请在用户中心查看。\n",
    "#https://quantumcomputer.ac.cn/User\n",
    "#设置量子计算机代码，可以是物理机、应答机或仿真器\n",
    "#当前可选机器名称：ClosedBetaQC (“祖冲之号”同等规模的超导量子计算机)\n",
    "#                应答机A (应答机，用于验证实验流程。)\n",
    "#有部分机型需要权限才可以设置或调用。\n",
    "#其中应答机为程序验证专用，提交试验后立即完成实验，线路返回结果为固定值，仅供验证程序的逻辑功能。\n",
    "\n",
    "#账号注册：https://quantumcomputer.ac.cn/\n",
    "#账号权限申请、购买（流程请更新）：电子邮件联系support@quantumcomputer.ac.cn，标题“账号权限申请”，正文内请务必清晰提供账号名称，所希望使用的机型、比特数量及比特编号等。\n",
    "#（注，不要提供密码，任何人也不会向你索要密码。）\n",
    "#本次比赛活动或统一登记参赛选手的账号信息，并给与开通权限。"
   ]
  },
  {
   "cell_type": "markdown",
   "id": "7db177b6-7971-4be0-ae5b-fdf0189beb0c",
   "metadata": {
    "tags": []
   },
   "source": [
    "## 1.2 量子程序编写<a id=\"jump_1_2\"></a>\n",
    "量子程序有多种书写方式，也有多种运行方式，作为基础教程，本案直接提供一个示例线路，不介绍细节。  \n",
    "高阶用例请参考后继教程。"
   ]
  },
  {
   "cell_type": "code",
   "execution_count": null,
   "id": "deae6990-20ee-4aca-8e9b-2d836d5fa402",
   "metadata": {},
   "outputs": [],
   "source": [
    "#手动书写第一个量子程序：Bell态制备\n",
    "#强烈建议设计线路时，直接考虑比特拓扑结构的影响。而不用程序做比特映射操作。\n",
    "qcis_circuit = '''\n",
    "H Q7\n",
    "X Q1\n",
    "H Q1\n",
    "CZ Q7 Q1\n",
    "H Q1\n",
    "M Q7\n",
    "M Q1\n",
    "'''\n",
    "#可以通过多种方法自行产生待提交的程序。\n",
    "#以上指令意义请自行补课\n",
    "#参考QCIS指令集：https://quantumcomputer.ac.cn/Knowledge/detail/all/e3948e8e0fab45c5adcfc730d0a1a3ba.html"
   ]
  },
  {
   "cell_type": "markdown",
   "id": "902a6bfa-f15e-4102-94c6-2be761c710d1",
   "metadata": {},
   "source": [
    "## 1.3 将程序提交到量子计算云平台<a id=\"jump_1_3\"></a>"
   ]
  },
  {
   "cell_type": "markdown",
   "id": "6bacf5a1-fbed-4aea-93bf-6a0bd6de6b13",
   "metadata": {
    "tags": []
   },
   "source": [
    "作为入门教程，可以只通过最简单的submit_job()参数来提交一个实验，更多参数见进阶教程。  \n",
    "函数定义：  \n",
    "**query_id=$\\color{red} {submit\\_job}$ (circuit=None, exp_name=\"exp0\",\n",
    "            parameters=None, values=None, num_shots=12000,\n",
    "            lab_id=None, exp_id=None, version=\"version01\")**\n",
    "##### circuit, 量子线路，对于新实验必须提供。  \n",
    "##### exp_name, 实验集合名称，对于未提供lab_id时，将根据exp_name创建实验集合, 但submit_job函数不返回新建的实验集合ID, 仅建议在快速运行实验时使用。对于同时提供lab_id和exp_name时，exp_name将被忽略。  \n",
    "##### parameters，values，线路中变量的替换，用于混合编程，见后继教程讲解。  \n",
    "##### num_shots，实验线路的运行次数，量子实验的特点，拿到的结果是多次实验的统计结果。12比特机型，目前只支持3000次的整数倍。对于其他机型，次数最小为1，最大受用户权限限制。\n",
    "##### lab_id, 实验集合id，相当于实验目录。\n",
    "##### exp_id, 实验版本id，不提供线路(circuit)时，可以通过提交exp_id，运行此前保存过的线路。\n",
    "##### version，实验线路名称。\n",
    "##### query_id, 返回值，字符类型。用于表征实验运行的id，用于查询实验结果。如果为0/空，则说明实验提交出现异常。\n",
    "submit_job是由多个基础函数组合而成，参数定义及更丰富的使用形式请参见高阶教程。"
   ]
  },
  {
   "cell_type": "code",
   "execution_count": null,
   "id": "128b2137-f7ee-4e70-936d-de4f6757da14",
   "metadata": {},
   "outputs": [],
   "source": [
    "query_id = account.submit_job(qcis_circuit)\n",
    "#对于最简的实验提交，只需要提供实验线路即可。\n",
    "#但如果想设计自动化程序，各个参数尽量明确复制，并且version等参数在同一个集合内不能重名，也要提前用时间或计数等形式提前产生好。\n",
    "#因submit_job函数参数较多，建议采用指定参数传参的形式。\n",
    "#submit_job可以有更多设置，还请关注我们的教程更新。\n",
    "print(query_id)"
   ]
  },
  {
   "cell_type": "markdown",
   "id": "24be9409-2dcf-4a76-b5f3-81fdef90d0bd",
   "metadata": {
    "tags": []
   },
   "source": [
    "## 1.4 读取实验结果<a id=\"jump_1_4\"></a>\n",
    "前面步骤已经将准备好的实验提交到量子计算云平台的量子计算机上并执行，只需通过query_id回读实验结果即可。  \n",
    "通过submit_job() 将线路传到云平台上的超导量子计算机实体机时，获得实验结果查询id(query_id)，用以查询实验进度，请妥善保存好。  \n",
    "如果返回query_id为0，则说明报错，报错内容一般会直接在执行过程中输出。  \n",
    "所以可以考虑用try函数来运行submit_job，对于意外状况，可以直接重新提交失败的实验。以保证全自动程序的运行。\n",
    "当query_id不为0时，利用query_experiment()可以进行下一步查询工作。"
   ]
  },
  {
   "cell_type": "code",
   "execution_count": null,
   "id": "d6f32702-0246-4da4-bf89-8e28d6fb9bd0",
   "metadata": {
    "tags": []
   },
   "outputs": [],
   "source": [
    "if query_id:\n",
    "    result=account.query_experiment(query_id, max_wait_time=360000)\n",
    "    #result目前为线路返回的数据，各式在内测期间有可能调整，如果已开发程序后期运行出错，可以考虑符合一下这里的格式，并根据具体情况调整。\n",
    "    #现阶段2023年4月14日，首批内测时，所约定的格式如下：\n",
    "    #返回值为字典形式，\n",
    "    #key-\"result\"为线路执行的原始数据，共计1+num_shots个数据，第一个数据为测量的比特编号和顺序，其余为每shot对应的结果。\n",
    "    #key-\"probability\"为线路测量结果的概率统计，经过实时的读取修正后的统计结果。已知number of shots较少时，读取修正后有可能得到部分概率为负值。\n",
    "    #\"probability\"中概率为0的结果不回传。\n",
    "    #当测量比特大于10个时，\"probability\"为空，请用户自行根据原始数据，配合当时量子计算机的读出保真度自行做修正。相关修正函数在高阶教程中有示例。用户也可以自己完善修正函数。\n",
    "    #最大等待时间单位为秒，不传递时默认为30秒。因量子程序的执行会有排队的情况，而量子计算机本身有自动校准的时间，如果想跑全自动的程序，等待时间最好大于两者。\n",
    "    \n",
    "    #以下是实验结果的显示、使用与保存。\n",
    "    #打印，显示结果\n",
    "    print(result)\n",
    "    #实验结果为原始数据，数据较长。这里不打印，如有兴趣观察实验结果结构，可以选择打印。\n",
    "    #每次shot的比特测量结果数据，便于灵活使用，如果需要统计结果，可见高阶教程。\n",
    "    #选出、处理部分结果示例\n",
    "    value = result\n",
    "    #print(value)\n",
    "    #实验结果为原始数据，数据较长。这里不打印，如有兴趣观察实验结果结构，可以选择打印。\n",
    "    #保存结果\n",
    "    f = open(\"./results.txt\",'w')\n",
    "    f.write(str(value))\n",
    "    f.close()\n",
    "    print(\"实验结果已存盘。\")\n",
    "else :\n",
    "    #实验未运行成功，需要后继重新提交等处理\n",
    "    print(\"实验运行异常，需要重新提交或运行\")"
   ]
  },
  {
   "cell_type": "markdown",
   "id": "28f302bf-02e6-41fe-921a-a3769efde6cc",
   "metadata": {},
   "source": [
    "如果需要保存此时量子计算的参数作为后期参考，如读取修正等，可以运行以下指令："
   ]
  },
  {
   "cell_type": "code",
   "execution_count": null,
   "id": "742b335f-a4ee-477e-addd-19c76c8094f4",
   "metadata": {},
   "outputs": [],
   "source": [
    "res=account.download_config()\n",
    "#机器完整参数将以json文件形式存储在当前目录。\n",
    "print(res)"
   ]
  },
  {
   "cell_type": "markdown",
   "id": "c3ad32cf-c21f-4160-ab32-e76c7958afc5",
   "metadata": {},
   "source": [
    "以上即完成基于QCIS的最简实验提交流程。如果需要对实验进行适当的归集，或者半自动、全自动的提交实验，重做指定实验等，可以参考后继的高级篇。  "
   ]
  }
 ],
 "metadata": {
  "kernelspec": {
   "display_name": "Python 3 (ipykernel)",
   "language": "python",
   "name": "python3"
  },
  "language_info": {
   "codemirror_mode": {
    "name": "ipython",
    "version": 3
   },
   "file_extension": ".py",
   "mimetype": "text/x-python",
   "name": "python",
   "nbconvert_exporter": "python",
   "pygments_lexer": "ipython3",
   "version": "3.9.7"
  }
 },
 "nbformat": 4,
 "nbformat_minor": 5
}
