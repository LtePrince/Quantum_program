{
 "cells": [
  {
   "cell_type": "markdown",
   "id": "6ff0b4eb-e055-4cfa-a7c1-8fc60461bd73",
   "metadata": {},
   "source": [
    "# **二、云平台其它编译语言使用教学——isQ**"
   ]
  },
  {
   "cell_type": "markdown",
   "id": "ce7645cf-bf55-44b2-b466-839cfa3ce713",
   "metadata": {},
   "source": [
    "---"
   ]
  },
  {
   "cell_type": "markdown",
   "id": "b3f22748-71bd-40a3-8dba-a0aa20bdcaae",
   "metadata": {},
   "source": [
    "# 教学大纲\n",
    "## 2. [基于isQ的首个量子程序提交](#jump_2)\n",
    "### &nbsp;&nbsp;&nbsp;&nbsp; 2.1 [编写isQ的量子程序](#jump_2_1)\n",
    "### &nbsp;&nbsp;&nbsp;&nbsp; 2.2 [编译程序，输出QCIS线路](#jump_2_2)\n",
    "### &nbsp;&nbsp;&nbsp;&nbsp; 2.3 [将程序提交到量子计算云平台(同QCIS流程)](#jump_2_3)"
   ]
  },
  {
   "cell_type": "markdown",
   "id": "d307818f-b1d6-4f42-a287-a3af7fadbda9",
   "metadata": {},
   "source": [
    "# 2 基于isQ的首个量子程序提交<a id=\"jump_2\"></a>\n",
    "如果需要在云平台量子计算机上使用其他量子语言提交实验，思路如下：首先利用所选编程语言，在用户本地调用语言编译器，将线路编译/输出为QCIS语言，然后按照QCIS语言进行实验提交。  \n",
    "（云平台JupyterLab环境已经预制好多种语言环境并且都无需安装，如有其他需求，可以联系客服。）"
   ]
  },
  {
   "cell_type": "markdown",
   "id": "1f21cb9e-b9bf-4d88-b052-2ae7a466c9f4",
   "metadata": {},
   "source": [
    "## 2.1 编写isQ的量子程序<a id=\"jump_2_1\"></a>"
   ]
  },
  {
   "cell_type": "markdown",
   "id": "3da86b5e-8e2d-4e4e-a6b5-31074973c290",
   "metadata": {},
   "source": [
    "根据isQ语法规则，编写isQ的量子程序。  \n",
    "isQ编程教程请参见xxxx  \n",
    "注意isQ的比特编号由0开始，而云端芯片比特编号由1开始。  \n",
    "注意0->1这类编号的对应关系变化，以保证按拓扑结构设计的程序不至于拓扑结构出错。"
   ]
  },
  {
   "cell_type": "code",
   "execution_count": null,
   "id": "d516efe3-7b42-49f3-8758-23527e6c95ac",
   "metadata": {},
   "outputs": [],
   "source": [
    "isq_code = '''\n",
    "qbit q[2];\n",
    "H<q[0]>;\n",
    "CNOT<q[0], q[1]>;\n",
    "M<q[0,1]>;\n",
    "'''"
   ]
  },
  {
   "cell_type": "markdown",
   "id": "c2f3f71b-1af5-4ac3-a72d-635deb4056aa",
   "metadata": {},
   "source": [
    "#### 2.2 编译程序，输出QCIS线路<a id=\"jump_2_3_2\"></a>\n",
    "isQ通过Device类进行编译和运行，isQ提供了两种Device：LocalDevice和QcisDevice, 具体使用可详见[isQ文档](http://www.arclightquantum.com/isq-core/)。\n",
    "\n",
    "首先用户需定义一个Device实例"
   ]
  },
  {
   "cell_type": "code",
   "execution_count": null,
   "id": "e1977b66-fe5e-4820-8a76-039a0c92ebbf",
   "metadata": {},
   "outputs": [],
   "source": [
    "from isq import LocalDevice\n",
    "ld = LocalDevice()"
   ]
  },
  {
   "cell_type": "markdown",
   "id": "11f17ede-1112-4a27-9ef5-bfa5e2f65603",
   "metadata": {},
   "source": [
    "然后通过`compile_to_ir`函数编译得到QCIS线路"
   ]
  },
  {
   "cell_type": "code",
   "execution_count": null,
   "id": "3ad1fd61-5b72-4484-80d4-165c6c1c11be",
   "metadata": {},
   "outputs": [],
   "source": [
    "ir = ld.compile_to_ir(isq_code, target = \"qcis\")\n",
    "print(ir)"
   ]
  },
  {
   "cell_type": "markdown",
   "id": "a49cbf83-9d18-4647-9330-ab5383262c95",
   "metadata": {
    "tags": []
   },
   "source": [
    "## 2.3 将程序提交到量子计算云平台(同QCIS流程)<a id=\"jump_2_3\"></a>\n",
    "将编译出的QCIS线路提交到量子计算云平台。"
   ]
  },
  {
   "cell_type": "code",
   "execution_count": null,
   "id": "5bc80d1b-c56d-460d-992b-42338c5f8be5",
   "metadata": {},
   "outputs": [],
   "source": [
    "isq_qcis=ir\n",
    "from ezQpy import * \n",
    "\n",
    "account = Account(login_key='2p1adksE+s6ib6uJa5/P/Mh4xbb4JrQAL9ym4QWtS1w=', machine_name='应答机A')\n",
    "#设置用户SDK密钥，选择量子计算机，并创建实例，运行成功后，提示登录成功。\n",
    "\n",
    "query_id_isQ = account.submit_job(circuit=isq_qcis,version=\"Bell_state_isQ\")\n",
    "#提交量子线路到云端量子计算机"
   ]
  },
  {
   "cell_type": "markdown",
   "id": "b4e0f207-7fa0-44ec-bbb6-a9d872c1f1aa",
   "metadata": {},
   "source": [
    "等待代码在量子计算机上完成，并读取实验结果，处理保存实验结果。"
   ]
  },
  {
   "cell_type": "code",
   "execution_count": null,
   "id": "84715de5-c351-4ca3-aac6-e9ba4c80e7ad",
   "metadata": {},
   "outputs": [],
   "source": [
    "if query_id_isQ:\n",
    "    result=account.query_experiment(query_id_isQ, max_wait_time=360000)\n",
    "    #最大等待时间单位为秒，不传递时默认为30秒。因量子程序的执行会有排队的情况，而量子计算机本身有自动校准的时间，如果想跑全自动的程序，等待时间最好大于两者。\n",
    "    print(result)\n",
    "    #后继数据应用实现。"
   ]
  }
 ],
 "metadata": {
  "kernelspec": {
   "display_name": "Python 3 (ipykernel)",
   "language": "python",
   "name": "python3"
  },
  "language_info": {
   "codemirror_mode": {
    "name": "ipython",
    "version": 3
   },
   "file_extension": ".py",
   "mimetype": "text/x-python",
   "name": "python",
   "nbconvert_exporter": "python",
   "pygments_lexer": "ipython3",
   "version": "3.9.7"
  }
 },
 "nbformat": 4,
 "nbformat_minor": 5
}
