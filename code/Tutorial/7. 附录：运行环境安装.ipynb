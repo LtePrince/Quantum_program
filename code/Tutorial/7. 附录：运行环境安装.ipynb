{
 "cells": [
  {
   "cell_type": "markdown",
   "id": "586f0caf-bd76-42df-a099-df5f00fc95f0",
   "metadata": {},
   "source": [
    "# **七、量子计算云平台编程教学**"
   ]
  },
  {
   "cell_type": "markdown",
   "id": "dc7e4062-ee0e-40c8-814d-3db7ab4f6593",
   "metadata": {},
   "source": [
    "-----------------------"
   ]
  },
  {
   "cell_type": "markdown",
   "id": "29b17972-a29f-425b-8948-1c3429b1abb3",
   "metadata": {
    "tags": []
   },
   "source": [
    "# 教学大纲\n",
    "## 7. [附录：软件环境的安装](#jump_7)\n",
    "### &nbsp;&nbsp;&nbsp;&nbsp; 7.1 [安装ezQpy SDK包](#jump_7_1)\n",
    "### &nbsp;&nbsp;&nbsp;&nbsp; 7.2 [安装Quingo编译器](#jump_7_2)\n",
    "### &nbsp;&nbsp;&nbsp;&nbsp; 7.3 [安装isQ编译器](#jump_7_3)\n"
   ]
  },
  {
   "cell_type": "markdown",
   "id": "ea39a879-4e34-4874-8637-308d362beabb",
   "metadata": {},
   "source": [
    "--------------------"
   ]
  },
  {
   "cell_type": "markdown",
   "id": "c603d9ec-d8cb-4690-bcc5-13e4f718d5ed",
   "metadata": {
    "tags": []
   },
   "source": [
    "# 7. 附录：软件环境的安装<a id=\"jump_7\"></a>\n",
    "请安装以下需要的运行环境，安装一次即可(如果调用云平台出现问题，请关注云平台通知或者更新相关的运行环境到最新版本）。\n",
    "建议优先在命令行形式下，用pip或Python指令安装。此处展示所用安装指令仅供参考，配置环境不同将影响安装是否成功。 \n",
    " [参考视频](https://quantumcomputer.ac.cn/Knowledge/detail/all/bf475ec03067463cb162a5ab84ab0f2a.html)  \n",
    "在量子创新研究院云平台的Jupyter Python环境，已经预装了以下所有环境，用户无需安装。"
   ]
  },
  {
   "cell_type": "markdown",
   "id": "4af3a5ae-1072-4727-8381-acdcd7c90f97",
   "metadata": {
    "tags": []
   },
   "source": [
    "## 7.1 安装ezQpy SDK包<a id=\"jump_7_1\"></a>\n",
    "\n",
    "##### 在Python环境下，安装ezQpy SDK 中科院量子信息与量子科技创新研究院量子计算机的远程调用SDK包  \n",
    "**如果你没安装过ezQpy，请将光标点击进入下面的命令行中，并同时按下Ctrl+Enter键，运行安装指令。后继指令运行方法相同。**"
   ]
  },
  {
   "cell_type": "code",
   "execution_count": null,
   "id": "85ba2c89-c2f8-418b-b857-3d4f27544844",
   "metadata": {},
   "outputs": [],
   "source": [
    "pip install --upgrade ezQpy -i  https://pypi.tuna.tsinghua.edu.cn/simple"
   ]
  },
  {
   "cell_type": "markdown",
   "id": "a2520fcf-d13c-4bc7-af3b-2465156fe7f5",
   "metadata": {},
   "source": [
    "提示输出中有类似成功字样，即为安装成功。更新安装成功后，需要重启python内核，以便最新包生效。\n",
    "> Installing collected packages: ezQpy  \n",
    "> Successfully installed ezQpy-0.2.0.2\n",
    "\n",
    "当前ezQpy版本为0.2.0.2, 在高性能量子计算机内测器件SDK可能更新较频繁，请注意及时更新到最新版本SDK。"
   ]
  },
  {
   "cell_type": "markdown",
   "id": "964441d9-9c12-4b73-b2a8-3e79b49048b8",
   "metadata": {
    "tags": []
   },
   "source": [
    "## 7.2 安装Quingo编译器<a id=\"jump_7_2\"></a>\n",
    "##### 在Python环境下，安装Quingo编译器  \n",
    "如果你没有安装过Quingo编译器，请依次执行下述两条指令。"
   ]
  },
  {
   "cell_type": "code",
   "execution_count": null,
   "id": "a882cd6c-95ad-4cda-82f2-70917681242e",
   "metadata": {},
   "outputs": [],
   "source": [
    "pip install --upgrade quingo -i  https://pypi.tuna.tsinghua.edu.cn/simple\n",
    "#安装Quingo Runtime\n",
    "\n",
    "# 如果安装成功，你可能看到如下输出：\n",
    "# Note: you may need to restart the kernel to use updated packages."
   ]
  },
  {
   "cell_type": "code",
   "execution_count": null,
   "id": "4403bdf3-b47d-4128-8462-2e601b0e9ae5",
   "metadata": {},
   "outputs": [],
   "source": [
    "from quingo.install_quingoc import *\n",
    "default_path = Path.home() / '.quingo'\n",
    "quingoc_path = distutils.spawn.find_executable(\n",
    "    'quingoc', str(default_path))\n",
    "\n",
    "if quingoc_path is None:\n",
    "    quingoc_path = distutils.spawn.find_executable('quingoc')\n",
    "    \n",
    "if quingoc_path is None:\n",
    "    download_and_install_latest_quingoc()\n",
    "else:\n",
    "    if quingoc_path[0] != '\"':\n",
    "        quingoc_path = '\"{}\"'.format(quingoc_path)\n",
    "    if check_update(quingoc_path):\n",
    "        download_and_install_latest_quingoc(pathlib.Path(quingoc_path))\n",
    "#安装Quingo编译器"
   ]
  },
  {
   "cell_type": "markdown",
   "id": "0525aea8-c53f-4105-8f0c-b10b6f87a5be",
   "metadata": {},
   "source": [
    "如果使用非JupyterLab的环境，则安装过程为直接在命令行中执行以下两行\n",
    ">pip install --upgrade quingo  \n",
    ">python -m quingo.install_quingoc"
   ]
  },
  {
   "cell_type": "markdown",
   "id": "9357b62b-4850-4a3f-a467-def8880beef8",
   "metadata": {},
   "source": [
    "配置quingo编译器路径"
   ]
  },
  {
   "cell_type": "code",
   "execution_count": null,
   "id": "77be949e-ea29-40e2-912d-b0eb730b3148",
   "metadata": {},
   "outputs": [],
   "source": [
    "from quingo.core.compiler_config import set_mlir_compiler_path\n",
    "import os\n",
    "# 请将下面括号中的路径修改为quingoc可执行文件所在的目录。请确认quingoc可执行文件在该目录下。\n",
    "# 在linux和Mac下，该路径可能是~/.local/bin/quingoc\n",
    "set_mlir_compiler_path(os.path.expanduser('~/.local/bin/quingoc'))\n",
    "# 在windows下，该路径可能是~\\.quingo\\quingoc.exe\n",
    "# set_mlir_compiler_path(os.path.expanduser(r'~\\.quingo\\quingoc.exe'))"
   ]
  },
  {
   "cell_type": "markdown",
   "id": "19988ac3-94a7-4e65-b752-e8b69e991b7f",
   "metadata": {},
   "source": [
    "#### 将std_qcis.qu文件添加到编译器默认搜索路径中\n",
    "该部分随不同版本发布会自动提供，如果未提示无法找到std_qcis.qu文件，可以不用安装。"
   ]
  },
  {
   "cell_type": "code",
   "execution_count": null,
   "id": "21d1cb54-fce2-4a6b-8c7d-e13c947164fb",
   "metadata": {},
   "outputs": [],
   "source": [
    "from pathlib import Path\n",
    "\n",
    "std_qcis = '''\n",
    "// measurement\n",
    "opaque MEASURE (qs: qubit[]): bool[];     // measure a list of qubits.\n",
    "opaque measure (q: qubit): bool;     // measure a list of qubits.\n",
    "\n",
    "// single-qubit gates\n",
    "opaque X (q:qubit): unit;                 // Rx( pi  )\n",
    "opaque X2P (q:qubit): unit;               // Rx( pi/2)\n",
    "opaque X2M (q:qubit): unit;               // Rx(-pi/2)\n",
    "opaque RX(q: qubit, angle: double) : unit;\n",
    "\n",
    "opaque Y (q:qubit): unit;                 // Ry( pi  )\n",
    "opaque Y2P (q:qubit): unit;               // Ry( pi/2)\n",
    "opaque Y2M (q:qubit): unit;               // Ry(-pi/2)\n",
    "opaque RY(q: qubit, angle: double) : unit;\n",
    "\n",
    "opaque RZ (q:qubit, angle:double): unit;  // Rz(angle)\n",
    "opaque Z (q:qubit): unit;                 // Rz( pi  )\n",
    "opaque Z2P (q:qubit): unit;               // Rz( pi/2)\n",
    "opaque Z2M (q:qubit): unit;               // Rz(-pi/2)\n",
    "opaque Z4P (q:qubit): unit;               // Rz( pi/4)\n",
    "opaque Z4M (q:qubit): unit;               // Rz(-pi/4)\n",
    "opaque H (q:qubit): unit;                 // Hadamard\n",
    "opaque S(q: qubit) : unit;\n",
    "opaque SD(q: qubit) : unit;\n",
    "opaque T(q: qubit) : unit;\n",
    "opaque TD(q: qubit) : unit;\n",
    "\n",
    "// This operation performs the following rotation on the state:\n",
    "//  - the angle between the positive x-axis and the rotation axis is `azimuth`;\n",
    "//  - the rotation angle is `angle`.\n",
    "opaque XYARB (q:qubit, azimuth:double, angle:double): unit;\n",
    "\n",
    "// two-qubit gates\n",
    "opaque CZ (control_qubit:qubit, target_qubit:qubit ): unit;     // CPhase gate\n",
    "'''\n",
    "\n",
    "inc_dir = Path.home() / '.quingo' / 'include' \n",
    "inc_dir.mkdir(parents=True, exist_ok=True)\n",
    "\n",
    "std_qcis_fn = inc_dir / 'std_qcis.qu'\n",
    "with std_qcis_fn.open('w') as f:\n",
    "    f.write(std_qcis)\n",
    "    \n",
    "#将std_qcis.qu文件写入到编译器搜索路径中，也可以直接复制该文件放到指定位置。"
   ]
  },
  {
   "cell_type": "markdown",
   "id": "554c782a-bb3f-4118-92cb-a036b863eaf4",
   "metadata": {},
   "source": [
    "## 7.3 安装isQ编译器<a id=\"jump_7_3\"></a>\n",
    "在Python环境下，安装isQ编译器  \n",
    "isQ 官方专用教程，详见这里：http://www.arclightquantum.com/isq-core/index.html  \n",
    "如果你没有安装过isQ编译器，请在命令行模式下执行下述指令。  "
   ]
  },
  {
   "cell_type": "code",
   "execution_count": null,
   "id": "f101bb4a-ee64-4e8d-ae3f-8ded77c651d4",
   "metadata": {},
   "outputs": [],
   "source": [
    "pip install --upgrade isqopen -i  https://pypi.tuna.tsinghua.edu.cn/simple"
   ]
  }
 ],
 "metadata": {
  "kernelspec": {
   "display_name": "Python 3 (ipykernel)",
   "language": "python",
   "name": "python3"
  },
  "language_info": {
   "codemirror_mode": {
    "name": "ipython",
    "version": 3
   },
   "file_extension": ".py",
   "mimetype": "text/x-python",
   "name": "python",
   "nbconvert_exporter": "python",
   "pygments_lexer": "ipython3",
   "version": "3.9.7"
  }
 },
 "nbformat": 4,
 "nbformat_minor": 5
}
