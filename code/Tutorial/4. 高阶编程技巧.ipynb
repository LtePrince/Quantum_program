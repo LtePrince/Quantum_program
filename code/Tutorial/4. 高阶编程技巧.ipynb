{
 "cells": [
  {
   "cell_type": "markdown",
   "id": "d25fd197-0124-4508-ab5e-7507140b70fb",
   "metadata": {
    "tags": []
   },
   "source": [
    "# **四、量子计算云平台量子编程教学**"
   ]
  },
  {
   "cell_type": "markdown",
   "id": "1cddd7a0-bb9a-4129-97c6-abeb100f150e",
   "metadata": {},
   "source": [
    "-----------------------"
   ]
  },
  {
   "cell_type": "markdown",
   "id": "bc472470-64f0-4a6b-9d39-ecc94f563e39",
   "metadata": {
    "jp-MarkdownHeadingCollapsed": true,
    "tags": []
   },
   "source": [
    "# 教学大纲\n",
    "## 4. [高阶应用技巧](#jump_4)\n",
    "### &nbsp;&nbsp;&nbsp;&nbsp; 4.1 [实验合集管理](#jump_4_1)\n",
    "### &nbsp;&nbsp;&nbsp;&nbsp; 4.2 [切换量子计算机](#jump_4_2)\n",
    "### &nbsp;&nbsp;&nbsp;&nbsp; 4.3 [实验提交动作分解](#jump_4_3)\n",
    "### &nbsp;&nbsp;&nbsp;&nbsp; 4.4 [多次运行同一线路](#jump_4_4)\n",
    "### &nbsp;&nbsp;&nbsp;&nbsp; 4.5 [线路传参](#jump_4_5)\n",
    "### &nbsp;&nbsp;&nbsp;&nbsp; 4.6 [概率统计](#jump_4_6)\n",
    "### &nbsp;&nbsp;&nbsp;&nbsp; 4.7 [读取矫正](#jump_4_7)"
   ]
  },
  {
   "cell_type": "markdown",
   "id": "4e336f54-0732-4c1d-a2e3-2d20b1be4632",
   "metadata": {
    "tags": []
   },
   "source": [
    "# 4 高阶应用技巧<a id=\"jump_4\"></a>"
   ]
  },
  {
   "cell_type": "markdown",
   "id": "a0077746-bfac-420e-b0cb-82f3cbc90333",
   "metadata": {
    "tags": []
   },
   "source": [
    "## 4.1 实验合集管理<a id=\"jump_4_1\"></a>"
   ]
  },
  {
   "cell_type": "markdown",
   "id": "b5ac2014-6acc-4871-a28f-a3b3ae062468",
   "metadata": {},
   "source": [
    "为提供合理的实验归类管理，量子计算云平台提供实验归类管理，提供了实验合集的概念。  \n",
    "可以在提交实验线路时，将实验线路放在指定的合集下，以便后期管理查看。  \n",
    "**注意：**\n",
    "**需要先创建实验合集或将已有合集信息传递到后继实验。  \n",
    "实验合集之间不能重名，同一合集下实验名称不能重名。  \n",
    "云平台网站WEB端展示效果待优化，请包涵。**\n",
    "\n",
    "具体实验合集的创建方式如下："
   ]
  },
  {
   "cell_type": "code",
   "execution_count": null,
   "id": "8135e964-1059-420a-873d-cbf506ea8f59",
   "metadata": {
    "tags": []
   },
   "outputs": [],
   "source": [
    "from ezQpy import * \n",
    "account = Account(login_key='d69a8e1389f2cabde55c3de99fcf8589', machine_name='ClosedBetaQC')\n",
    "\n",
    "create_res = account.create_experiment('机器学习B')\n",
    "if create_res == 0:\n",
    "    print('新建实验合集失败')\n",
    "else :\n",
    "    print('新建实验合辑成功，ID=', create_res)\n",
    "    lab_id = create_res\n",
    "#实验合集id建议长期保留，以便后继使用。"
   ]
  },
  {
   "cell_type": "markdown",
   "id": "8e233caf-6463-4ca3-bd1b-95f765a46aae",
   "metadata": {},
   "source": [
    "或者直接使用已有实验ID"
   ]
  },
  {
   "cell_type": "code",
   "execution_count": null,
   "id": "e2d2bae9-baf8-404d-9ce9-0b6631d141de",
   "metadata": {},
   "outputs": [],
   "source": [
    "lab_id=Your experimentId\n",
    "#实验合集id的web查询方式为：在我的实验合集页面，点击需要查看的实验合集，观察浏览器地址栏中信息，eg.\n",
    "#https://quantumctek-cloud.com/expList.html?experimentId=1639487661985239040\n",
    "#其中experimentId后的参数即为实验合集id"
   ]
  },
  {
   "cell_type": "markdown",
   "id": "e6ef24ee-a6f9-4fe0-b508-64f4f222f0c5",
   "metadata": {},
   "source": [
    "将量子线路提交到指定的实验集合下的操作方式如下："
   ]
  },
  {
   "cell_type": "code",
   "execution_count": null,
   "id": "779a85dc-97f8-4dc5-bb53-90b6141e75fa",
   "metadata": {},
   "outputs": [],
   "source": [
    "qcis_circuit = '''\n",
    "H Q7\n",
    "X Q1\n",
    "H Q1\n",
    "CZ Q7 Q1\n",
    "H Q1\n",
    "M Q7\n",
    "M Q1\n",
    "'''\n",
    "query_id = account.submit_job(circuit=qcis_circuit, lab_id=lab_id, version=\"GPT4-a123\")\n",
    "#对于单次提交实验，可以手动输入上述参数，如果想设计自动化程序，version的参数值可以通过计数等格式提前生成。\n",
    "#其他流程同标准方式。\n",
    "print(query_id)"
   ]
  },
  {
   "cell_type": "markdown",
   "id": "e550a33f-ad76-491e-8883-bc7d80165faa",
   "metadata": {
    "tags": []
   },
   "source": [
    "## 4.2 切换量子计算机<a id=\"jump_4_2\"></a>"
   ]
  },
  {
   "cell_type": "markdown",
   "id": "b5e0ed4e-e801-43fe-93da-c3e3ef67a871",
   "metadata": {},
   "source": [
    "大多数情况，我们都会使用\"变量名\"代表所需要的量子计算型号，然后在调用account时，直接设置量子计算机。  \n",
    "对于已经开发完成的程序，利用某台机器(如应答机)验证过的程序，也只需要修改变量名称即可快速修改后继的计算机使用情况。 "
   ]
  },
  {
   "cell_type": "code",
   "execution_count": null,
   "id": "7d3f2bf5-c3a6-4692-bcfd-b8dc222665a5",
   "metadata": {},
   "outputs": [],
   "source": [
    "from ezQpy import Account\n",
    "login_key='d69a8e1389f2cabde55c3de99fcf8589'\n",
    "machine_name = '应答机A'\n",
    "\n",
    "account = Account(login_key=login_key, machine_name=machine_name)\n",
    "#设置用户SDK密钥，选择量子计算机，并创建实例，运行成功后，提示登录成功。\n",
    "print(account.machine_name)"
   ]
  },
  {
   "cell_type": "markdown",
   "id": "c2da301f-5371-42f4-ac43-df894cacbbe5",
   "metadata": {},
   "source": [
    "但有些特殊情况，例如希望在一个程序内，快速提交同一段实验到两个机器上做对比，则可以使用量子计算机的设置功能。"
   ]
  },
  {
   "cell_type": "code",
   "execution_count": null,
   "id": "36acf6e7-8a19-423b-a65b-e0ec1b42d873",
   "metadata": {},
   "outputs": [],
   "source": [
    "machine_name = '应答机A'\n",
    "account = Account(login_key=login_key)#未设置量子计算机\n",
    "print(account.machine_name)\n",
    "#查看当前选择的量子计算机\n",
    "account.set_machine(machine_name) \n",
    "#切换量子计算机时，注意最终提交的程序需要遵守量子计算机的拓扑结构限制，否则提交实验时会报错。\n",
    "print(account.machine_name)\n",
    "#查看量子计算机设置选择是否生效"
   ]
  },
  {
   "cell_type": "markdown",
   "id": "ef11bb33-b9a7-4f04-8a6b-8b75b49c4cc5",
   "metadata": {
    "tags": []
   },
   "source": [
    "## 4.3 实验提交动作分解<a id=\"jump_4_3\"></a>"
   ]
  },
  {
   "cell_type": "markdown",
   "id": "69b5c662-6fac-46c6-941f-6395f0cc8e49",
   "metadata": {},
   "source": [
    "submit_job()函数实际上是将多个动作封装在一起的函数，如果有特殊需求，可以分布执行提交动作，或者重新设计自己的提交函数。  \n",
    "当前提交函数内的动作包含：  \n",
    "#### assign_parameters(circuit, parameters, values)  \n",
    "将量子线路的变量参数快速带入，生产最终量子线路。  \n",
    "#### save_experiment(lab_id, exp_data, name='detailtest', language='qcis')  \n",
    "将量子线路保存到云平台上已被后期调用，返回实验线路id。其中name相当于submit_job中的version变量。\n",
    "#### run_experiment(exp_id, num_shots=12000)  \n",
    "运行指定实验id的线路。  \n",
    "    \n",
    "所以一个submit_job()提交可以被等效为如下动作。"
   ]
  },
  {
   "cell_type": "code",
   "execution_count": null,
   "id": "25573265-a8bb-467a-a503-96e5dbd2ccd5",
   "metadata": {},
   "outputs": [],
   "source": [
    "qcis_circuit = '''\n",
    "H Q7\n",
    "X Q1\n",
    "H Q1\n",
    "CZ Q7 Q1\n",
    "H Q1\n",
    "M Q7\n",
    "M Q1\n",
    "'''\n",
    "from ezQpy import Account\n",
    "login_key='d69a8e1389f2cabde55c3de99fcf8589'\n",
    "machine_name = 'ClosedBetaQC'\n",
    "account = Account(login_key=login_key, machine_name=machine_name)\n",
    "#设置用户SDK密钥，选择量子计算机，并创建实例，运行成功后，提示登录成功。\n",
    "\n",
    "lab_id='d4a7f5f2b6bd4bdc87f2c1e7dc7a3183'\n",
    "#query_id = account.submit_job(circuit=qcis_circuit, lab_id=lab_id, version=\"人工智能a1234\")\n",
    "#以上一个submit_job等于以下几个操作\n",
    "qcis_circuit=account.assign_parameters(circuit=qcis_circuit,parameters=None, values=None)#参数列表和参数值，在上述ubmit_job中采用了默认值NULL。\n",
    "print(qcis_circuit)\n",
    "exp_id=account.save_experiment(lab_id=lab_id, exp_data=qcis_circuit, version=\"人工智能a1234\")#language参数在submit_job函数中不可外部输入。当前该值只支持qcis。\n",
    "print(exp_id)\n",
    "query_id=account.run_experiment(exp_id=exp_id, num_shots=12000)#num_shots在上述submit_job中采用了默认值12000。\n",
    "print(query_id)"
   ]
  },
  {
   "cell_type": "markdown",
   "id": "c2c1c8c6-6ee1-4e69-8c2f-0bde781da204",
   "metadata": {
    "tags": []
   },
   "source": [
    "## 4.4 多次运行同一线路<a id=\"jump_4_4\"></a>"
   ]
  },
  {
   "cell_type": "markdown",
   "id": "19f61fe1-752e-4605-a326-494b6bcdd255",
   "metadata": {},
   "source": [
    "请注意，量子计算云平台只接受固定参数的线路，现阶段即便一些有参数的线路，实际上也都是提前将参数更换为具体数值后，进行提交。所以对同一个线路进行多次，其线路结构，参数数值，都是明确固定的。  \n",
    "该需求往往用在对特定线路结果的比较，或者直接利用线路结果的应用。  \n",
    "根据上一节的讲解可知，分步提交线路可以获得线路本身的ID，对其进行保存，在运行时，只要提供该ID即可运行，需要多次运行该线路，只需要提交多次该ID的运行即可。"
   ]
  },
  {
   "cell_type": "code",
   "execution_count": null,
   "id": "78c04e58-16cd-414c-8354-24ea6555320c",
   "metadata": {},
   "outputs": [],
   "source": [
    "#续上例程序\n",
    "saved_exp_id=exp_id\n",
    "#saved_exp_id='ustc3142744691105312700000005360'\n",
    "result_list=[]\n",
    "for i in range(2) :\n",
    "    query_id=account.run_experiment(exp_id=saved_exp_id, num_shots=1000)#num_shots在上述submit_job中采用了默认值12000。\n",
    "    result=account.query_experiment(query_id, max_wait_time=360000)\n",
    "    result_list.append(result)\n",
    "print(result_list)"
   ]
  },
  {
   "cell_type": "markdown",
   "id": "90135aeb-2175-4b1f-805b-57173cac1fc6",
   "metadata": {
    "tags": []
   },
   "source": [
    "## 4.5 线路传参<a id=\"jump_4_5\"></a>"
   ]
  },
  {
   "cell_type": "markdown",
   "id": "ec8761b5-81b5-414a-bac7-716daa691693",
   "metadata": {},
   "source": [
    "虽然使用完备的标准门可以实现任意门操作，但对于经典数据的输入，还是希望直接传入到量子程序中，而不是根据参数重新设计线路。  \n",
    "所以，我们专门在submit_job中直接添加了传参函数assign_parameters。用户也可以在线路准备阶段直接使用该函数进行线路的参数传入。"
   ]
  },
  {
   "cell_type": "code",
   "execution_count": null,
   "id": "753b4700-c1fc-4ab3-ac32-848f998ee14b",
   "metadata": {},
   "outputs": [],
   "source": [
    "#在线路中预置{x}表述待传入参数\n",
    "qcis_circuit = '''\n",
    "RX Q1 {n1}\n",
    "RX Q7 {n2}\n",
    "H Q1\n",
    "X Q7\n",
    "H Q7\n",
    "CZ Q1 Q7\n",
    "H Q7\n",
    "M Q1\n",
    "M Q7\n",
    "'''\n",
    "values=[0.1,0.2]\n",
    "qcis_circuit=account.assign_parameters(circuit=qcis_circuit, parameters=['n1','n2'], values=values)\n",
    "print(qcis_circuit)\n",
    "#或者直接使用submit_job函数直接带入参数\n",
    "qcis_circuit = '''\n",
    "RX Q1 {n1}\n",
    "RX Q7 {n2}\n",
    "H Q1\n",
    "X Q7\n",
    "H Q7\n",
    "CZ Q1 Q7\n",
    "H Q7\n",
    "M Q1\n",
    "M Q7\n",
    "'''\n",
    "lab_id='d4a7f5f2b6bd4bdc87f2c1e7dc7a3183'\n",
    "query_id = account.submit_job(circuit=qcis_circuit, lab_id=lab_id, version=\"人工智能1234\",parameters=['n1','n2'], values=values)\n",
    "print(query_id)"
   ]
  },
  {
   "cell_type": "markdown",
   "id": "2b6a6562-09f4-4279-9242-e553ec3a0f59",
   "metadata": {},
   "source": [
    "上面这种带出参数的意义不大，仅是作为展示。  \n",
    "在异构程序设计时，会活用这个参数传递，将values根据动态数据实时计算带入，得到更强的参数更新特点。"
   ]
  },
  {
   "cell_type": "markdown",
   "id": "b31b27fb-3c58-4f79-9a2e-a38a8e4d0e7e",
   "metadata": {},
   "source": [
    "## 4.6 概率统计<a id=\"jump_4_6\"></a>"
   ]
  },
  {
   "cell_type": "markdown",
   "id": "7f325128-8794-46e3-9540-3e8ec505553b",
   "metadata": {},
   "source": [
    "为节省带宽，让量子计算机相关服务更专心的做量子计算的服务，当测量比特超过10个时，量子计算机端就不再为用户做结果的概率统计和读取矫正，需要用户自行处理。  \n",
    "我们提供了基础的概率统计函数，调用方式如下："
   ]
  },
  {
   "cell_type": "code",
   "execution_count": null,
   "id": "112a9435-7b75-4a88-8a11-7b866ce68b0a",
   "metadata": {},
   "outputs": [],
   "source": [
    "qcis_circuit = '''\n",
    "H Q7\n",
    "X Q1\n",
    "H Q1\n",
    "CZ Q7 Q1\n",
    "H Q1\n",
    "M Q7\n",
    "M Q1\n",
    "'''\n",
    "from ezQpy import * \n",
    "account = Account(login_key='d69a8e1389f2cabde55c3de99fcf8589', machine_name='ClosedBetaQC')\n",
    "query_id = account.submit_job(qcis_circuit)\n",
    "print(query_id)\n",
    "if query_id:\n",
    "    result=account.query_experiment(query_id, max_wait_time=360000)"
   ]
  },
  {
   "cell_type": "code",
   "execution_count": null,
   "id": "ad5773c5-bfdf-4c9c-ba2a-affb985e1844",
   "metadata": {},
   "outputs": [],
   "source": [
    "probability_whole=account.readout_data_to_state_probabilities_whole(result)\n",
    "print(probability_whole)\n",
    "probability_part=account.readout_data_to_state_probabilities_part(result)\n",
    "print(probability_part)"
   ]
  },
  {
   "cell_type": "markdown",
   "id": "466beb01-ff3a-454f-a0ec-dd940915a0cd",
   "metadata": {},
   "source": [
    "## 4.7 读取矫正<a id=\"jump_4_7\"></a>"
   ]
  },
  {
   "cell_type": "markdown",
   "id": "f4a12842-1238-49dc-b222-0d5b11560bda",
   "metadata": {},
   "source": [
    "当今的量子计算机在多环节都有保证度问题，在使用结果的统计结果时，需要进行读取矫正。  \n",
    "注意：该函数的运行，将直接读取量子计算机当前的读取参数值。  \n",
    "后继将会调整该函数接受历史保持的量子计算机参数。"
   ]
  },
  {
   "cell_type": "code",
   "execution_count": null,
   "id": "8c2cb485-a903-4aa3-9fee-a445b2dcea98",
   "metadata": {},
   "outputs": [],
   "source": [
    "probability_cali=account.probability_calibration(result)\n",
    "print(probability_cali)"
   ]
  }
 ],
 "metadata": {
  "kernelspec": {
   "display_name": "Python 3 (ipykernel)",
   "language": "python",
   "name": "python3"
  },
  "language_info": {
   "codemirror_mode": {
    "name": "ipython",
    "version": 3
   },
   "file_extension": ".py",
   "mimetype": "text/x-python",
   "name": "python",
   "nbconvert_exporter": "python",
   "pygments_lexer": "ipython3",
   "version": "3.9.7"
  }
 },
 "nbformat": 4,
 "nbformat_minor": 5
}
