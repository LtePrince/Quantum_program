{
 "cells": [
  {
   "cell_type": "markdown",
   "id": "77a192cf-6663-4689-9054-f680b2ff6191",
   "metadata": {},
   "source": [
    "# **三、云平台其它编译语言使用教学——Quingo**"
   ]
  },
  {
   "cell_type": "markdown",
   "id": "f20d2814-1a7b-41f0-8c7f-2866fb25e52a",
   "metadata": {},
   "source": [
    "---"
   ]
  },
  {
   "cell_type": "markdown",
   "id": "d8255b68-fc86-4961-bc7d-0b352d8ff4c7",
   "metadata": {},
   "source": [
    "# 教学大纲\n",
    "## 3. [基于Quingo的首个量子程序提交](#jump_3)\n",
    "### &nbsp;&nbsp;&nbsp;&nbsp; 3.1 [编写isQ的量子程序](#jump_3_1)\n",
    "### &nbsp;&nbsp;&nbsp;&nbsp; 3.2 [编译程序，输出QCIS线路](#jump_3_2)\n",
    "### &nbsp;&nbsp;&nbsp;&nbsp; 3.3 [将程序提交到量子计算云平台(同QCIS流程)](#jump_3_3)"
   ]
  },
  {
   "cell_type": "markdown",
   "id": "1d608486-26c5-4b89-864e-ddb33ccf518a",
   "metadata": {},
   "source": [
    "# 3 基于Quingo的首个量子程序提交<a id=\"jump_3\"></a>\n",
    "如果需要在云平台量子计算机上使用其他量子语言提交实验，思路如下：首先利用所选编程语言，在用户本地调用语言编译器，将线路编译/输出为QCIS语言，然后按照QCIS语言进行实验提交。  \n",
    "（云平台JupyterLab环境已经预制好多种语言环境并且都无需安装，如有其他需求，可以联系客服。）"
   ]
  },
  {
   "cell_type": "markdown",
   "id": "12945b0e-8f4d-4350-9277-0cc1dd7e3f56",
   "metadata": {
    "tags": []
   },
   "source": [
    "## 3.1 编写Quingo量子程序<a id=\"jump_3_1\"></a>"
   ]
  },
  {
   "cell_type": "markdown",
   "id": "49ab344e-46f5-400c-9472-0c175281cba8",
   "metadata": {},
   "source": [
    "根据Quingo语法规则，编写Quingo的量子程序。  \n",
    "Quingo编程教程请参见xxxx  \n",
    "注意Quingo的比特编号由0开始，而云端芯片比特编号由1开始。  \n",
    "注意0->1这类编号的对应关系变化，以保证按拓扑结构设计的程序不至于拓扑结构出错。"
   ]
  },
  {
   "cell_type": "code",
   "execution_count": null,
   "id": "6acf2a20-9392-439e-bae4-7bd43e2af085",
   "metadata": {},
   "outputs": [],
   "source": [
    "#该部分代码借鉴于Quingo的示例代码。\n",
    "Quingo_code='''\n",
    "import std_qcis\n",
    "operation CNOT(q1: qubit, q2: qubit) : unit {\n",
    "    Y2M(q2);\n",
    "    CZ(q1, q2);\n",
    "    Y2P(q2);\n",
    "}\n",
    "\n",
    "\n",
    "operation bell_state() : unit {\n",
    "    using(q0: qubit, q1: qubit) {\n",
    "        H(q0);\n",
    "        CNOT(q0, q1);\n",
    "        measure(q0);\n",
    "        measure(q1);\n",
    "    }\n",
    "}\n",
    "'''\n",
    "f = open(\"./kernel.qu\",'w')\n",
    "f.write(Quingo_code)\n",
    "f.close()"
   ]
  },
  {
   "cell_type": "markdown",
   "id": "025e9582-d05c-46e0-8987-9f57b9450569",
   "metadata": {
    "tags": []
   },
   "source": [
    "## 3.2 编译程序，输出QCIS线路<a id=\"jump_3_2\"></a>\n",
    "\n",
    "运行host.py对Quingo程序进行编译。  \n",
    "Quingo源程序默认保存在与host.py同目录下的kernel.qu程序。  \n",
    "如果不是JupyterLab环境，可以使用以下命令进行编译：  \n",
    ">python host.py"
   ]
  },
  {
   "cell_type": "code",
   "execution_count": null,
   "id": "57c868f0-01af-47d7-a74c-daf65679a18d",
   "metadata": {},
   "outputs": [],
   "source": [
    "from quingo import quingo_interface as qi\n",
    "\n",
    "qi.set_compiler('mlir')\n",
    "#设置Quingo编译器\n",
    "if qi.connect_backend('pyqcisim_quantumsim') is False:\n",
    "    exit(-1)\n",
    "#连接编译器后端\n",
    "qi.call_quingo(\"kernel.qu\", \"bell_state\")\n",
    "#调用编译服务，编译成功，输出True，结果在当前目录下的build目录内，\"线路名.qcis\"文件。\n",
    "#编译不成功，请根据实际报错信息进行程序调整。\n",
    "\n",
    "#以下为仿真器结果显示\n",
    "#res = qi.read_result()\n",
    "#print(res)\n",
    "#读取并显示仿真器结果"
   ]
  },
  {
   "cell_type": "markdown",
   "id": "5cba546e-fc1d-4343-ac67-782400b1453b",
   "metadata": {},
   "source": [
    "编译成功后，QCIS指令集被输出在源程序所在目录下的build目录，名字为：线路名.qcis"
   ]
  },
  {
   "cell_type": "markdown",
   "id": "4836dd81-00fb-4a8b-a402-230992a15c9e",
   "metadata": {},
   "source": [
    "读取Quingo编译输出的QCIS文件"
   ]
  },
  {
   "cell_type": "code",
   "execution_count": null,
   "id": "3fba9ac1-392b-424b-9512-25004b5f99b0",
   "metadata": {},
   "outputs": [],
   "source": [
    "f = open(\"./build/bell_state.qcis\",'r')\n",
    "quingo_qcis=f.read()#确保读取长度超过文件总长度。\n",
    "f.close()\n",
    "print(quingo_qcis)"
   ]
  },
  {
   "cell_type": "markdown",
   "id": "8736e968-94db-464a-a42b-acf866150098",
   "metadata": {
    "tags": []
   },
   "source": [
    "## 3.3 将程序提交到量子计算云平台(同QCIS流程)<a id=\"jump_3_3\"></a>"
   ]
  },
  {
   "cell_type": "markdown",
   "id": "80165f68-ef46-455f-b823-a248e34f7b7a",
   "metadata": {},
   "source": [
    "将编译出的QCIS线路提交到量子计算云平台。"
   ]
  },
  {
   "cell_type": "code",
   "execution_count": null,
   "id": "2a37f8c1-bd6a-4cab-9c2f-0342700ee574",
   "metadata": {},
   "outputs": [],
   "source": [
    "from ezQpy import * \n",
    "\n",
    "account = Account(login_key='2p1adksE+s6ib6uJa5/P/Mh4xbb4JrQAL9ym4QWtS1w=', machine_name='应答机A')\n",
    "#设置用户SDK密钥，选择量子计算机，并创建实例，运行成功后，提示登录成功。\n",
    "\n",
    "query_id_quingo = account.submit_job(circuit=quingo_qcis, version=\"Bell_state_quingo\")\n"
   ]
  },
  {
   "cell_type": "markdown",
   "id": "c4415dfc-355c-45b3-975a-354fd3b33475",
   "metadata": {},
   "source": [
    "等待代码在量子计算机上完成，并读取实验结果，处理保存实验结果。"
   ]
  },
  {
   "cell_type": "code",
   "execution_count": null,
   "id": "52835f2d-14d1-4c57-8e5f-d31edfe662fc",
   "metadata": {},
   "outputs": [],
   "source": [
    "if query_id_quingo:\n",
    "    result=account.query_experiment(query_id_quingo, max_wait_time=360000)\n",
    "    #最大等待时间单位为秒，不传递时默认为30秒。因量子程序的执行会有排队的情况，而量子计算机本身有自动校准的时间，如果想跑全自动的程序，等待时间最好大于两者。\n",
    "    print(result)\n",
    "    #后继数据应用实现。"
   ]
  }
 ],
 "metadata": {
  "kernelspec": {
   "display_name": "Python 3 (ipykernel)",
   "language": "python",
   "name": "python3"
  },
  "language_info": {
   "codemirror_mode": {
    "name": "ipython",
    "version": 3
   },
   "file_extension": ".py",
   "mimetype": "text/x-python",
   "name": "python",
   "nbconvert_exporter": "python",
   "pygments_lexer": "ipython3",
   "version": "3.9.7"
  }
 },
 "nbformat": 4,
 "nbformat_minor": 5
}
